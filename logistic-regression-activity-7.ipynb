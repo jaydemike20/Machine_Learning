{
 "cells": [
  {
   "cell_type": "code",
   "execution_count": 1,
   "id": "1a897c08",
   "metadata": {
    "_cell_guid": "b1076dfc-b9ad-4769-8c92-a6c4dae69d19",
    "_uuid": "8f2839f25d086af736a60e9eeb907d3b93b6e0e5",
    "execution": {
     "iopub.execute_input": "2023-04-13T17:00:22.870435Z",
     "iopub.status.busy": "2023-04-13T17:00:22.869447Z",
     "iopub.status.idle": "2023-04-13T17:00:22.888539Z",
     "shell.execute_reply": "2023-04-13T17:00:22.887256Z"
    },
    "papermill": {
     "duration": 0.030069,
     "end_time": "2023-04-13T17:00:22.891278",
     "exception": false,
     "start_time": "2023-04-13T17:00:22.861209",
     "status": "completed"
    },
    "tags": []
   },
   "outputs": [
    {
     "name": "stdout",
     "output_type": "stream",
     "text": [
      "/kaggle/input/irispdf/iris.csv\n"
     ]
    }
   ],
   "source": [
    "# This Python 3 environment comes with many helpful analytics libraries installed\n",
    "# It is defined by the kaggle/python Docker image: https://github.com/kaggle/docker-python\n",
    "# For example, here's several helpful packages to load\n",
    "\n",
    "import numpy as np # linear algebra\n",
    "import pandas as pd # data processing, CSV file I/O (e.g. pd.read_csv)\n",
    "\n",
    "# Input data files are available in the read-only \"../input/\" directory\n",
    "# For example, running this (by clicking run or pressing Shift+Enter) will list all files under the input directory\n",
    "\n",
    "import os\n",
    "for dirname, _, filenames in os.walk('/kaggle/input'):\n",
    "    for filename in filenames:\n",
    "        print(os.path.join(dirname, filename))\n",
    "\n",
    "# You can write up to 20GB to the current directory (/kaggle/working/) that gets preserved as output when you create a version using \"Save & Run All\" \n",
    "# You can also write temporary files to /kaggle/temp/, but they won't be saved outside of the current session"
   ]
  },
  {
   "cell_type": "code",
   "execution_count": 2,
   "id": "c4b81820",
   "metadata": {
    "execution": {
     "iopub.execute_input": "2023-04-13T17:00:22.903647Z",
     "iopub.status.busy": "2023-04-13T17:00:22.902937Z",
     "iopub.status.idle": "2023-04-13T17:00:22.907958Z",
     "shell.execute_reply": "2023-04-13T17:00:22.907150Z"
    },
    "papermill": {
     "duration": 0.013888,
     "end_time": "2023-04-13T17:00:22.910327",
     "exception": false,
     "start_time": "2023-04-13T17:00:22.896439",
     "status": "completed"
    },
    "tags": []
   },
   "outputs": [],
   "source": [
    "# ignoring warnings\n",
    "import warnings\n",
    "warnings.filterwarnings('ignore')"
   ]
  },
  {
   "cell_type": "code",
   "execution_count": 3,
   "id": "949d5c11",
   "metadata": {
    "execution": {
     "iopub.execute_input": "2023-04-13T17:00:22.922022Z",
     "iopub.status.busy": "2023-04-13T17:00:22.921669Z",
     "iopub.status.idle": "2023-04-13T17:00:23.952926Z",
     "shell.execute_reply": "2023-04-13T17:00:23.951922Z"
    },
    "papermill": {
     "duration": 1.040467,
     "end_time": "2023-04-13T17:00:23.955767",
     "exception": false,
     "start_time": "2023-04-13T17:00:22.915300",
     "status": "completed"
    },
    "tags": []
   },
   "outputs": [],
   "source": [
    "# importing required libraries\n",
    "import matplotlib.pyplot as plt\n",
    "%matplotlib inline\n",
    "import seaborn as sns\n",
    "sns.set(style=\"white\", color_codes=True)"
   ]
  },
  {
   "cell_type": "code",
   "execution_count": 4,
   "id": "61440e8a",
   "metadata": {
    "execution": {
     "iopub.execute_input": "2023-04-13T17:00:23.967453Z",
     "iopub.status.busy": "2023-04-13T17:00:23.967084Z",
     "iopub.status.idle": "2023-04-13T17:00:24.003129Z",
     "shell.execute_reply": "2023-04-13T17:00:24.002016Z"
    },
    "papermill": {
     "duration": 0.044922,
     "end_time": "2023-04-13T17:00:24.005714",
     "exception": false,
     "start_time": "2023-04-13T17:00:23.960792",
     "status": "completed"
    },
    "tags": []
   },
   "outputs": [
    {
     "data": {
      "text/html": [
       "<div>\n",
       "<style scoped>\n",
       "    .dataframe tbody tr th:only-of-type {\n",
       "        vertical-align: middle;\n",
       "    }\n",
       "\n",
       "    .dataframe tbody tr th {\n",
       "        vertical-align: top;\n",
       "    }\n",
       "\n",
       "    .dataframe thead th {\n",
       "        text-align: right;\n",
       "    }\n",
       "</style>\n",
       "<table border=\"1\" class=\"dataframe\">\n",
       "  <thead>\n",
       "    <tr style=\"text-align: right;\">\n",
       "      <th></th>\n",
       "      <th>sepal_length</th>\n",
       "      <th>sepal_width</th>\n",
       "      <th>petal_length</th>\n",
       "      <th>petal_width</th>\n",
       "      <th>species</th>\n",
       "    </tr>\n",
       "  </thead>\n",
       "  <tbody>\n",
       "    <tr>\n",
       "      <th>0</th>\n",
       "      <td>5.1</td>\n",
       "      <td>3.5</td>\n",
       "      <td>1.4</td>\n",
       "      <td>0.2</td>\n",
       "      <td>setosa</td>\n",
       "    </tr>\n",
       "    <tr>\n",
       "      <th>1</th>\n",
       "      <td>4.9</td>\n",
       "      <td>3.0</td>\n",
       "      <td>1.4</td>\n",
       "      <td>0.2</td>\n",
       "      <td>setosa</td>\n",
       "    </tr>\n",
       "    <tr>\n",
       "      <th>2</th>\n",
       "      <td>4.7</td>\n",
       "      <td>3.2</td>\n",
       "      <td>1.3</td>\n",
       "      <td>0.2</td>\n",
       "      <td>setosa</td>\n",
       "    </tr>\n",
       "    <tr>\n",
       "      <th>3</th>\n",
       "      <td>4.6</td>\n",
       "      <td>3.1</td>\n",
       "      <td>1.5</td>\n",
       "      <td>0.2</td>\n",
       "      <td>setosa</td>\n",
       "    </tr>\n",
       "    <tr>\n",
       "      <th>4</th>\n",
       "      <td>5.0</td>\n",
       "      <td>3.6</td>\n",
       "      <td>1.4</td>\n",
       "      <td>0.2</td>\n",
       "      <td>setosa</td>\n",
       "    </tr>\n",
       "  </tbody>\n",
       "</table>\n",
       "</div>"
      ],
      "text/plain": [
       "   sepal_length  sepal_width  petal_length  petal_width species\n",
       "0           5.1          3.5           1.4          0.2  setosa\n",
       "1           4.9          3.0           1.4          0.2  setosa\n",
       "2           4.7          3.2           1.3          0.2  setosa\n",
       "3           4.6          3.1           1.5          0.2  setosa\n",
       "4           5.0          3.6           1.4          0.2  setosa"
      ]
     },
     "execution_count": 4,
     "metadata": {},
     "output_type": "execute_result"
    }
   ],
   "source": [
    "# I uploaded the fisheriris and call it here\n",
    "iris = pd.read_csv('/kaggle/input/irispdf/iris.csv')\n",
    "iris.head()"
   ]
  },
  {
   "cell_type": "code",
   "execution_count": 5,
   "id": "26f2d361",
   "metadata": {
    "execution": {
     "iopub.execute_input": "2023-04-13T17:00:24.017967Z",
     "iopub.status.busy": "2023-04-13T17:00:24.017582Z",
     "iopub.status.idle": "2023-04-13T17:00:24.030951Z",
     "shell.execute_reply": "2023-04-13T17:00:24.029732Z"
    },
    "papermill": {
     "duration": 0.022264,
     "end_time": "2023-04-13T17:00:24.033299",
     "exception": false,
     "start_time": "2023-04-13T17:00:24.011035",
     "status": "completed"
    },
    "tags": []
   },
   "outputs": [
    {
     "data": {
      "text/plain": [
       "setosa        50\n",
       "versicolor    50\n",
       "virginica     50\n",
       "Name: species, dtype: int64"
      ]
     },
     "execution_count": 5,
     "metadata": {},
     "output_type": "execute_result"
    }
   ],
   "source": [
    "# counts the sum of all each different species\n",
    "iris[\"species\"].value_counts()"
   ]
  },
  {
   "cell_type": "code",
   "execution_count": 6,
   "id": "39b859c0",
   "metadata": {
    "execution": {
     "iopub.execute_input": "2023-04-13T17:00:24.045636Z",
     "iopub.status.busy": "2023-04-13T17:00:24.045198Z",
     "iopub.status.idle": "2023-04-13T17:00:24.758908Z",
     "shell.execute_reply": "2023-04-13T17:00:24.757387Z"
    },
    "papermill": {
     "duration": 0.723115,
     "end_time": "2023-04-13T17:00:24.761703",
     "exception": false,
     "start_time": "2023-04-13T17:00:24.038588",
     "status": "completed"
    },
    "tags": []
   },
   "outputs": [
    {
     "data": {
      "text/plain": [
       "<seaborn.axisgrid.FacetGrid at 0x7d7304abad90>"
      ]
     },
     "execution_count": 6,
     "metadata": {},
     "output_type": "execute_result"
    },
    {
     "data": {
      "image/png": "[encoded data removed]",
      "text/plain": [
       "<Figure size 730.25x600 with 1 Axes>"
      ]
     },
     "metadata": {},
     "output_type": "display_data"
    }
   ],
   "source": [
    "# Scatter plot\n",
    "# just to see how the data look like... you can change the 2 elements if you want to\n",
    "sns.FacetGrid(iris, hue=\"species\", height=6).map(plt.scatter, \"petal_length\", \"sepal_width\").add_legend()"
   ]
  },
  {
   "cell_type": "code",
   "execution_count": 7,
   "id": "605065a1",
   "metadata": {
    "execution": {
     "iopub.execute_input": "2023-04-13T17:00:24.776129Z",
     "iopub.status.busy": "2023-04-13T17:00:24.775086Z",
     "iopub.status.idle": "2023-04-13T17:00:24.782738Z",
     "shell.execute_reply": "2023-04-13T17:00:24.781613Z"
    },
    "papermill": {
     "duration": 0.017361,
     "end_time": "2023-04-13T17:00:24.785259",
     "exception": false,
     "start_time": "2023-04-13T17:00:24.767898",
     "status": "completed"
    },
    "tags": []
   },
   "outputs": [],
   "source": [
    "# Converting categorical variables into numbers\n",
    "# you can choose any number you like but for me I'll just count the letters of each species\n",
    "# setosa == 6, versicolor == 10, virginica == 9\n",
    "# this is only dictionary\n",
    "flower_mapping = {'setosa': 6, 'versicolor': 10, 'virginica': 9}\n",
    "iris[\"species\"] = iris['species'].map(flower_mapping)"
   ]
  },
  {
   "cell_type": "code",
   "execution_count": 8,
   "id": "ec71ca2f",
   "metadata": {
    "execution": {
     "iopub.execute_input": "2023-04-13T17:00:24.798973Z",
     "iopub.status.busy": "2023-04-13T17:00:24.798295Z",
     "iopub.status.idle": "2023-04-13T17:00:24.811634Z",
     "shell.execute_reply": "2023-04-13T17:00:24.810602Z"
    },
    "papermill": {
     "duration": 0.024405,
     "end_time": "2023-04-13T17:00:24.815649",
     "exception": false,
     "start_time": "2023-04-13T17:00:24.791244",
     "status": "completed"
    },
    "tags": []
   },
   "outputs": [
    {
     "data": {
      "text/html": [
       "<div>\n",
       "<style scoped>\n",
       "    .dataframe tbody tr th:only-of-type {\n",
       "        vertical-align: middle;\n",
       "    }\n",
       "\n",
       "    .dataframe tbody tr th {\n",
       "        vertical-align: top;\n",
       "    }\n",
       "\n",
       "    .dataframe thead th {\n",
       "        text-align: right;\n",
       "    }\n",
       "</style>\n",
       "<table border=\"1\" class=\"dataframe\">\n",
       "  <thead>\n",
       "    <tr style=\"text-align: right;\">\n",
       "      <th></th>\n",
       "      <th>sepal_length</th>\n",
       "      <th>sepal_width</th>\n",
       "      <th>petal_length</th>\n",
       "      <th>petal_width</th>\n",
       "      <th>species</th>\n",
       "    </tr>\n",
       "  </thead>\n",
       "  <tbody>\n",
       "    <tr>\n",
       "      <th>0</th>\n",
       "      <td>5.1</td>\n",
       "      <td>3.5</td>\n",
       "      <td>1.4</td>\n",
       "      <td>0.2</td>\n",
       "      <td>6</td>\n",
       "    </tr>\n",
       "    <tr>\n",
       "      <th>1</th>\n",
       "      <td>4.9</td>\n",
       "      <td>3.0</td>\n",
       "      <td>1.4</td>\n",
       "      <td>0.2</td>\n",
       "      <td>6</td>\n",
       "    </tr>\n",
       "    <tr>\n",
       "      <th>2</th>\n",
       "      <td>4.7</td>\n",
       "      <td>3.2</td>\n",
       "      <td>1.3</td>\n",
       "      <td>0.2</td>\n",
       "      <td>6</td>\n",
       "    </tr>\n",
       "    <tr>\n",
       "      <th>3</th>\n",
       "      <td>4.6</td>\n",
       "      <td>3.1</td>\n",
       "      <td>1.5</td>\n",
       "      <td>0.2</td>\n",
       "      <td>6</td>\n",
       "    </tr>\n",
       "    <tr>\n",
       "      <th>4</th>\n",
       "      <td>5.0</td>\n",
       "      <td>3.6</td>\n",
       "      <td>1.4</td>\n",
       "      <td>0.2</td>\n",
       "      <td>6</td>\n",
       "    </tr>\n",
       "  </tbody>\n",
       "</table>\n",
       "</div>"
      ],
      "text/plain": [
       "   sepal_length  sepal_width  petal_length  petal_width  species\n",
       "0           5.1          3.5           1.4          0.2        6\n",
       "1           4.9          3.0           1.4          0.2        6\n",
       "2           4.7          3.2           1.3          0.2        6\n",
       "3           4.6          3.1           1.5          0.2        6\n",
       "4           5.0          3.6           1.4          0.2        6"
      ]
     },
     "execution_count": 8,
     "metadata": {},
     "output_type": "execute_result"
    }
   ],
   "source": [
    "iris.head()"
   ]
  },
  {
   "cell_type": "code",
   "execution_count": 9,
   "id": "30b6acdb",
   "metadata": {
    "execution": {
     "iopub.execute_input": "2023-04-13T17:00:24.830431Z",
     "iopub.status.busy": "2023-04-13T17:00:24.830050Z",
     "iopub.status.idle": "2023-04-13T17:00:24.835870Z",
     "shell.execute_reply": "2023-04-13T17:00:24.835120Z"
    },
    "papermill": {
     "duration": 0.015177,
     "end_time": "2023-04-13T17:00:24.837909",
     "exception": false,
     "start_time": "2023-04-13T17:00:24.822732",
     "status": "completed"
    },
    "tags": []
   },
   "outputs": [],
   "source": [
    "# Preparing inputs and outputs\n",
    "# x is our input while y is our output\n",
    "X = iris[['sepal_length', 'sepal_width', 'petal_length', 'petal_width']].values\n",
    "Y = iris[['species']].values"
   ]
  },
  {
   "cell_type": "code",
   "execution_count": 10,
   "id": "8ed43b9d",
   "metadata": {
    "execution": {
     "iopub.execute_input": "2023-04-13T17:00:24.851828Z",
     "iopub.status.busy": "2023-04-13T17:00:24.851209Z",
     "iopub.status.idle": "2023-04-13T17:00:25.101092Z",
     "shell.execute_reply": "2023-04-13T17:00:25.099886Z"
    },
    "papermill": {
     "duration": 0.260211,
     "end_time": "2023-04-13T17:00:25.104152",
     "exception": false,
     "start_time": "2023-04-13T17:00:24.843941",
     "status": "completed"
    },
    "tags": []
   },
   "outputs": [],
   "source": [
    "# LOGISTIC REGRESSION (THE ACCURACY) \n",
    "# import sa ta sa another required library\n",
    "from sklearn.linear_model import LogisticRegression"
   ]
  },
  {
   "cell_type": "code",
   "execution_count": 11,
   "id": "5a651b16",
   "metadata": {
    "execution": {
     "iopub.execute_input": "2023-04-13T17:00:25.118191Z",
     "iopub.status.busy": "2023-04-13T17:00:25.117769Z",
     "iopub.status.idle": "2023-04-13T17:00:25.122500Z",
     "shell.execute_reply": "2023-04-13T17:00:25.121421Z"
    },
    "papermill": {
     "duration": 0.014347,
     "end_time": "2023-04-13T17:00:25.124732",
     "exception": false,
     "start_time": "2023-04-13T17:00:25.110385",
     "status": "completed"
    },
    "tags": []
   },
   "outputs": [],
   "source": [
    "# then katong gi import ato to sya e initialized sa variable nga model\n",
    "model = LogisticRegression()"
   ]
  },
  {
   "cell_type": "code",
   "execution_count": 12,
   "id": "54ca1694",
   "metadata": {
    "execution": {
     "iopub.execute_input": "2023-04-13T17:00:25.138995Z",
     "iopub.status.busy": "2023-04-13T17:00:25.138396Z",
     "iopub.status.idle": "2023-04-13T17:00:25.179794Z",
     "shell.execute_reply": "2023-04-13T17:00:25.178621Z"
    },
    "papermill": {
     "duration": 0.051482,
     "end_time": "2023-04-13T17:00:25.182429",
     "exception": false,
     "start_time": "2023-04-13T17:00:25.130947",
     "status": "completed"
    },
    "tags": []
   },
   "outputs": [
    {
     "data": {
      "text/plain": [
       "LogisticRegression()"
      ]
     },
     "execution_count": 12,
     "metadata": {},
     "output_type": "execute_result"
    }
   ],
   "source": [
    "# tapos after sa initialization, atu na dayun sya e train ang model\n",
    "# ang x kay ang input while ang y kay output\n",
    "model.fit(X, Y)"
   ]
  },
  {
   "cell_type": "code",
   "execution_count": 13,
   "id": "7543c594",
   "metadata": {
    "execution": {
     "iopub.execute_input": "2023-04-13T17:00:25.196285Z",
     "iopub.status.busy": "2023-04-13T17:00:25.195884Z",
     "iopub.status.idle": "2023-04-13T17:00:25.203113Z",
     "shell.execute_reply": "2023-04-13T17:00:25.202202Z"
    },
    "papermill": {
     "duration": 0.016547,
     "end_time": "2023-04-13T17:00:25.205266",
     "exception": false,
     "start_time": "2023-04-13T17:00:25.188719",
     "status": "completed"
    },
    "tags": []
   },
   "outputs": [
    {
     "data": {
      "text/plain": [
       "0.9733333333333334"
      ]
     },
     "execution_count": 13,
     "metadata": {},
     "output_type": "execute_result"
    }
   ],
   "source": [
    "# mao naning pag test sa atung accuracy\n",
    "model.score(X, Y)"
   ]
  },
  {
   "cell_type": "code",
   "execution_count": 14,
   "id": "4317051c",
   "metadata": {
    "execution": {
     "iopub.execute_input": "2023-04-13T17:00:25.219526Z",
     "iopub.status.busy": "2023-04-13T17:00:25.218936Z",
     "iopub.status.idle": "2023-04-13T17:00:25.225133Z",
     "shell.execute_reply": "2023-04-13T17:00:25.223796Z"
    },
    "papermill": {
     "duration": 0.016323,
     "end_time": "2023-04-13T17:00:25.227658",
     "exception": false,
     "start_time": "2023-04-13T17:00:25.211335",
     "status": "completed"
    },
    "tags": []
   },
   "outputs": [
    {
     "name": "stdout",
     "output_type": "stream",
     "text": [
      "97 %\n"
     ]
    }
   ],
   "source": [
    "# Since decimal man iya output ato na dayun sya e convert sa integer para nice tan awon \n",
    "# mao na dayun ni answer sa activity\n",
    "accuracy = int(model.score(X, Y) * 100)\n",
    "\n",
    "print(accuracy, '%')"
   ]
  },
  {
   "cell_type": "code",
   "execution_count": 15,
   "id": "5833f363",
   "metadata": {
    "execution": {
     "iopub.execute_input": "2023-04-13T17:00:25.243502Z",
     "iopub.status.busy": "2023-04-13T17:00:25.242270Z",
     "iopub.status.idle": "2023-04-13T17:00:25.251342Z",
     "shell.execute_reply": "2023-04-13T17:00:25.250146Z"
    },
    "papermill": {
     "duration": 0.019308,
     "end_time": "2023-04-13T17:00:25.253608",
     "exception": false,
     "start_time": "2023-04-13T17:00:25.234300",
     "status": "completed"
    },
    "tags": []
   },
   "outputs": [
    {
     "data": {
      "text/plain": [
       "array([ 6,  6,  6,  6,  6,  6,  6,  6,  6,  6,  6,  6,  6,  6,  6,  6,  6,\n",
       "        6,  6,  6,  6,  6,  6,  6,  6,  6,  6,  6,  6,  6,  6,  6,  6,  6,\n",
       "        6,  6,  6,  6,  6,  6,  6,  6,  6,  6,  6,  6,  6,  6,  6,  6, 10,\n",
       "       10, 10, 10, 10, 10, 10, 10, 10, 10, 10, 10, 10, 10, 10, 10, 10, 10,\n",
       "       10, 10,  9, 10, 10, 10, 10, 10, 10,  9, 10, 10, 10, 10, 10,  9, 10,\n",
       "       10, 10, 10, 10, 10, 10, 10, 10, 10, 10, 10, 10, 10, 10, 10,  9,  9,\n",
       "        9,  9,  9,  9, 10,  9,  9,  9,  9,  9,  9,  9,  9,  9,  9,  9,  9,\n",
       "        9,  9,  9,  9,  9,  9,  9,  9,  9,  9,  9,  9,  9,  9,  9,  9,  9,\n",
       "        9,  9,  9,  9,  9,  9,  9,  9,  9,  9,  9,  9,  9,  9])"
      ]
     },
     "execution_count": 15,
     "metadata": {},
     "output_type": "execute_result"
    }
   ],
   "source": [
    "# but out of curiosity pud mag predict ta\n",
    "# make predictions\n",
    "# setosa == 6, versicolor == 10, virginica == 9\n",
    "expected = Y\n",
    "predicted = model.predict(X)\n",
    "predicted"
   ]
  },
  {
   "cell_type": "code",
   "execution_count": 16,
   "id": "5c1ac5c9",
   "metadata": {
    "execution": {
     "iopub.execute_input": "2023-04-13T17:00:25.269272Z",
     "iopub.status.busy": "2023-04-13T17:00:25.267970Z",
     "iopub.status.idle": "2023-04-13T17:00:25.273570Z",
     "shell.execute_reply": "2023-04-13T17:00:25.272566Z"
    },
    "papermill": {
     "duration": 0.015616,
     "end_time": "2023-04-13T17:00:25.275881",
     "exception": false,
     "start_time": "2023-04-13T17:00:25.260265",
     "status": "completed"
    },
    "tags": []
   },
   "outputs": [],
   "source": [
    "# Summarize the fit of the model\n",
    "# import nasag required nga library\n",
    "\n",
    "from sklearn import metrics"
   ]
  },
  {
   "cell_type": "code",
   "execution_count": 17,
   "id": "3f6c696b",
   "metadata": {
    "execution": {
     "iopub.execute_input": "2023-04-13T17:00:25.290531Z",
     "iopub.status.busy": "2023-04-13T17:00:25.290092Z",
     "iopub.status.idle": "2023-04-13T17:00:25.300431Z",
     "shell.execute_reply": "2023-04-13T17:00:25.299230Z"
    },
    "papermill": {
     "duration": 0.020396,
     "end_time": "2023-04-13T17:00:25.302703",
     "exception": false,
     "start_time": "2023-04-13T17:00:25.282307",
     "status": "completed"
    },
    "tags": []
   },
   "outputs": [
    {
     "name": "stdout",
     "output_type": "stream",
     "text": [
      "              precision    recall  f1-score   support\n",
      "\n",
      "           6       1.00      1.00      1.00        50\n",
      "           9       0.94      0.98      0.96        50\n",
      "          10       0.98      0.94      0.96        50\n",
      "\n",
      "    accuracy                           0.97       150\n",
      "   macro avg       0.97      0.97      0.97       150\n",
      "weighted avg       0.97      0.97      0.97       150\n",
      "\n"
     ]
    }
   ],
   "source": [
    "# pag classify ni sa species, ang 6 which is setosa is 100% precision\n",
    "# ang 10 which is versicolor is 98% precision\n",
    "# ang 9 which is virginica is 94% precision\n",
    "print(metrics.classification_report(expected, predicted))"
   ]
  },
  {
   "cell_type": "markdown",
   "id": "df2db6ce",
   "metadata": {
    "execution": {
     "iopub.execute_input": "2023-04-13T16:40:15.938392Z",
     "iopub.status.busy": "2023-04-13T16:40:15.937255Z",
     "iopub.status.idle": "2023-04-13T16:40:15.949359Z",
     "shell.execute_reply": "2023-04-13T16:40:15.947547Z",
     "shell.execute_reply.started": "2023-04-13T16:40:15.938337Z"
    },
    "papermill": {
     "duration": 0.006143,
     "end_time": "2023-04-13T17:00:25.315488",
     "exception": false,
     "start_time": "2023-04-13T17:00:25.309345",
     "status": "completed"
    },
    "tags": []
   },
   "source": [
    "# 50 means 100% since our each species has 50 \n",
    "# 49 means 98% since 49 raman versicolor ug isa ka virginica which good paman\n",
    "# while 47 means 94% since 3 kabuok versicolor while 47 ra ang virginica which is wrong\n",
    "\n",
    "# JAYDE MIKE T. ENGRACIA ----- BSIT 3R5\n",
    "\n",
    "print(metrics.confusion_matrix(expected, predicted))"
   ]
  }
 ],
 "metadata": {
  "kernelspec": {
   "display_name": "Python 3",
   "language": "python",
   "name": "python3"
  },
  "language_info": {
   "codemirror_mode": {
    "name": "ipython",
    "version": 3
   },
   "file_extension": ".py",
   "mimetype": "text/x-python",
   "name": "python",
   "nbconvert_exporter": "python",
   "pygments_lexer": "ipython3",
   "version": "3.7.12"
  },
  "papermill": {
   "default_parameters": {},
   "duration": 12.574262,
   "end_time": "2023-04-13T17:00:26.043490",
   "environment_variables": {},
   "exception": null,
   "input_path": "__notebook__.ipynb",
   "output_path": "__notebook__.ipynb",
   "parameters": {},
   "start_time": "2023-04-13T17:00:13.469228",
   "version": "2.4.0"
  }
 },
 "nbformat": 4,
 "nbformat_minor": 5
}
